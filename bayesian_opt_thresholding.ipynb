{
 "cells": [
  {
   "cell_type": "code",
   "execution_count": 217,
   "metadata": {},
   "outputs": [],
   "source": [
    "import numpy as np\n",
    "import metrics\n",
    "from sklearn.linear_model import RidgeClassifierCV\n",
    "\n",
    "ridge = RidgeClassifierCV()"
   ]
  },
  {
   "cell_type": "code",
   "execution_count": 218,
   "metadata": {},
   "outputs": [],
   "source": [
    "X = np.load('x_se_resnext50_32x4d_0.npy')\n",
    "y = np.load('y_se_resnext50_32x4d_0.npy')"
   ]
  },
  {
   "cell_type": "code",
   "execution_count": 219,
   "metadata": {},
   "outputs": [],
   "source": [
    "from sklearn.cross_validation import train_test_split\n",
    "\n",
    "def sigmoid(x):\n",
    "    return 1/(1 + np.exp(-x))\n",
    "\n",
    "X_train, X_test, y_train, y_test = train_test_split(X, y, test_size = 0.25)\n",
    "X_train = sigmoid(X_train)\n",
    "X_test = sigmoid(X_test)"
   ]
  },
  {
   "cell_type": "code",
   "execution_count": 220,
   "metadata": {},
   "outputs": [],
   "source": [
    "def generate_preds(pred, threshold):\n",
    "    integer = np.arange(28)[pred > threshold]\n",
    "    a = np.zeros(28)\n",
    "    [np.put(a, i, 1) for i in(integer)]\n",
    "    \n",
    "    return a\n",
    "\n",
    "def threshold_error_mapping(threshold):\n",
    "    final_pred = np.array([generate_preds(X_train[i], threshold) for i in range(len(y_train))])\n",
    "    return -metrics.f1_macro(final_pred, y_train)"
   ]
  },
  {
   "cell_type": "code",
   "execution_count": 221,
   "metadata": {},
   "outputs": [],
   "source": [
    "from skopt import gp_minimize\n",
    "\n",
    "res = gp_minimize(threshold_error_mapping,                  # the function to minimize\n",
    "                  [(0.4, .6)]*28,      # the bounds on each dimension of x\n",
    "                  acq_func=\"EI\",      # the acquisition function\n",
    "                  n_calls=100,         # the number of evaluations of f \n",
    "                  n_random_starts=5,  # the number of random initialization points\n",
    "                  noise=0.1**2,       # the noise level (optional)\n",
    "                  random_state=123)   # the random seed"
   ]
  },
  {
   "cell_type": "code",
   "execution_count": 222,
   "metadata": {},
   "outputs": [
    {
     "name": "stdout",
     "output_type": "stream",
     "text": [
      "Value of f1 macro score: -0.7017762560866011\n",
      "Thresholds: [0.4, 0.6, 0.4, 0.6, 0.4, 0.4, 0.5951117108331118, 0.4853869207383187, 0.6, 0.5687016706298437, 0.4573993807698044, 0.4, 0.4, 0.4653931447260238, 0.6, 0.6, 0.6, 0.6, 0.6, 0.6, 0.58698943976186, 0.6, 0.556517758252218, 0.6, 0.5950956144670102, 0.41854161523071076, 0.4, 0.4]\n"
     ]
    }
   ],
   "source": [
    "print(\"Value of f1 macro score: {}\".format(res.fun))\n",
    "print(\"Thresholds: {}\".format(res.x))"
   ]
  },
  {
   "cell_type": "code",
   "execution_count": 214,
   "metadata": {},
   "outputs": [
    {
     "data": {
      "text/plain": [
       "array([[3.19453228e-03, 1.70492440e-04, 3.79152266e-04, ...,\n",
       "        1.50876690e-04, 8.26269841e-08, 8.68114516e-08],\n",
       "       [9.85534891e-01, 1.22810064e-02, 1.45901180e-03, ...,\n",
       "        1.28603279e-04, 5.89215142e-06, 5.63633814e-06],\n",
       "       [9.70043808e-02, 9.99874830e-01, 2.11967796e-04, ...,\n",
       "        9.84548115e-03, 1.09272171e-05, 8.02535389e-07],\n",
       "       ...,\n",
       "       [4.50812949e-05, 1.56078614e-06, 3.88409983e-05, ...,\n",
       "        5.69586953e-04, 3.06504216e-04, 1.46943207e-08],\n",
       "       [7.35051167e-01, 4.76892167e-07, 1.41028430e-06, ...,\n",
       "        3.30726390e-04, 3.41177657e-06, 1.63957556e-09],\n",
       "       [2.57525461e-04, 7.08599209e-07, 2.47160458e-05, ...,\n",
       "        1.81226965e-05, 3.47075806e-08, 6.99828128e-09]])"
      ]
     },
     "execution_count": 214,
     "metadata": {},
     "output_type": "execute_result"
    }
   ],
   "source": []
  },
  {
   "cell_type": "code",
   "execution_count": null,
   "metadata": {},
   "outputs": [],
   "source": []
  }
 ],
 "metadata": {
  "kernelspec": {
   "display_name": "Python 3",
   "language": "python",
   "name": "python3"
  },
  "language_info": {
   "codemirror_mode": {
    "name": "ipython",
    "version": 3
   },
   "file_extension": ".py",
   "mimetype": "text/x-python",
   "name": "python",
   "nbconvert_exporter": "python",
   "pygments_lexer": "ipython3",
   "version": "3.5.2"
  }
 },
 "nbformat": 4,
 "nbformat_minor": 2
}
